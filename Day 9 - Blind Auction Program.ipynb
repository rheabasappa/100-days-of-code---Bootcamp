{
 "cells": [
  {
   "cell_type": "markdown",
   "id": "1d586af4",
   "metadata": {},
   "source": [
    "#### Python dictonaries"
   ]
  },
  {
   "cell_type": "code",
   "execution_count": 25,
   "id": "b0d37f4f",
   "metadata": {},
   "outputs": [],
   "source": [
    "dict = {'bug':['index error','value error','other error']}"
   ]
  },
  {
   "cell_type": "code",
   "execution_count": 6,
   "id": "1d176f0e",
   "metadata": {},
   "outputs": [
    {
     "data": {
      "text/plain": [
       "'value error'"
      ]
     },
     "execution_count": 6,
     "metadata": {},
     "output_type": "execute_result"
    }
   ],
   "source": [
    "dict['bug'][1]"
   ]
  },
  {
   "cell_type": "code",
   "execution_count": 26,
   "id": "f2ed9aab",
   "metadata": {},
   "outputs": [],
   "source": [
    "dict = {'name':['rhea','shash','D','Bja'],'bid':[1,2,3,4]}"
   ]
  },
  {
   "cell_type": "code",
   "execution_count": 20,
   "id": "efcdc436",
   "metadata": {},
   "outputs": [],
   "source": [
    "dict['add'] = 'adding new thing'"
   ]
  },
  {
   "cell_type": "code",
   "execution_count": 21,
   "id": "169c3173",
   "metadata": {},
   "outputs": [
    {
     "data": {
      "text/plain": [
       "{'name': ['rhea', 'shash', 'D', 'Bja'],\n",
       " 'bid': [1, 2, 3, 4],\n",
       " 'add': 'adding new thing'}"
      ]
     },
     "execution_count": 21,
     "metadata": {},
     "output_type": "execute_result"
    }
   ],
   "source": [
    "dict"
   ]
  },
  {
   "cell_type": "code",
   "execution_count": 17,
   "id": "0f4846b2",
   "metadata": {},
   "outputs": [],
   "source": [
    "dict['name'] = 0"
   ]
  },
  {
   "cell_type": "code",
   "execution_count": 18,
   "id": "8281af13",
   "metadata": {},
   "outputs": [
    {
     "data": {
      "text/plain": [
       "{'name': 0, 'bid': [1, 2, 3, 4], 'add': 'adding new thing'}"
      ]
     },
     "execution_count": 18,
     "metadata": {},
     "output_type": "execute_result"
    }
   ],
   "source": [
    "dict"
   ]
  },
  {
   "cell_type": "code",
   "execution_count": 29,
   "id": "5010faa9",
   "metadata": {},
   "outputs": [
    {
     "name": "stdout",
     "output_type": "stream",
     "text": [
      "name\n",
      "name rhea\n",
      "name shash\n",
      "name D\n",
      "name Bja\n",
      "bid\n",
      "bid 1\n",
      "bid 2\n",
      "bid 3\n",
      "bid 4\n"
     ]
    }
   ],
   "source": [
    "for key in dict:\n",
    "    print(key)\n",
    "    value = dict[key]\n",
    "    for i in value:\n",
    "        print(key,i)"
   ]
  },
  {
   "cell_type": "code",
   "execution_count": 30,
   "id": "091d092b",
   "metadata": {},
   "outputs": [],
   "source": [
    "student_scores = {'harry':81,'hermoine':99,'ron':78,'draco':74,'neville':62}"
   ]
  },
  {
   "cell_type": "code",
   "execution_count": 31,
   "id": "6932b3c2",
   "metadata": {},
   "outputs": [],
   "source": [
    "student_grades = {}"
   ]
  },
  {
   "cell_type": "code",
   "execution_count": 32,
   "id": "f7bf0b75",
   "metadata": {},
   "outputs": [],
   "source": [
    "for key in student_scores:\n",
    "    if student_scores[key] > 90:\n",
    "        student_grades[key] = 'outstanding'\n",
    "    elif student_scores[key] > 80:\n",
    "        student_grades[key] = 'very good'\n",
    "    elif student_scores[key] > 70:\n",
    "        student_grades[key] = 'acceptable'\n",
    "    else:\n",
    "        student_grades[key] = 'can be better'"
   ]
  },
  {
   "cell_type": "code",
   "execution_count": 33,
   "id": "58529d28",
   "metadata": {},
   "outputs": [
    {
     "data": {
      "text/plain": [
       "{'harry': 'very good',\n",
       " 'hermoine': 'outstanding',\n",
       " 'ron': 'acceptable',\n",
       " 'draco': 'acceptable',\n",
       " 'neville': 'can be better'}"
      ]
     },
     "execution_count": 33,
     "metadata": {},
     "output_type": "execute_result"
    }
   ],
   "source": [
    "student_grades"
   ]
  },
  {
   "cell_type": "markdown",
   "id": "5e4178c6",
   "metadata": {},
   "source": [
    "#### Nesting"
   ]
  },
  {
   "cell_type": "code",
   "execution_count": 34,
   "id": "8cfbf525",
   "metadata": {},
   "outputs": [],
   "source": [
    "### nesting dictonary in dictionary"
   ]
  },
  {
   "cell_type": "code",
   "execution_count": 35,
   "id": "4073660d",
   "metadata": {},
   "outputs": [],
   "source": [
    "dict = {'key1':{'k1':1,'k2':2},'key2':{'k3':3,'k4':4}}"
   ]
  },
  {
   "cell_type": "code",
   "execution_count": 36,
   "id": "b24c29d4",
   "metadata": {},
   "outputs": [
    {
     "data": {
      "text/plain": [
       "{'key1': {'k1': 1, 'k2': 2}, 'key2': {'k3': 3, 'k4': 4}}"
      ]
     },
     "execution_count": 36,
     "metadata": {},
     "output_type": "execute_result"
    }
   ],
   "source": [
    "dict"
   ]
  },
  {
   "cell_type": "code",
   "execution_count": 39,
   "id": "f46f994c",
   "metadata": {},
   "outputs": [
    {
     "data": {
      "text/plain": [
       "1"
      ]
     },
     "execution_count": 39,
     "metadata": {},
     "output_type": "execute_result"
    }
   ],
   "source": [
    "dict['key1']['k1']"
   ]
  },
  {
   "cell_type": "code",
   "execution_count": 40,
   "id": "ea4e4788",
   "metadata": {},
   "outputs": [
    {
     "data": {
      "text/plain": [
       "4"
      ]
     },
     "execution_count": 40,
     "metadata": {},
     "output_type": "execute_result"
    }
   ],
   "source": [
    "dict['key2']['k4']"
   ]
  },
  {
   "cell_type": "code",
   "execution_count": 41,
   "id": "b8f5fe31",
   "metadata": {},
   "outputs": [],
   "source": [
    "lst = [{'key1':{'k1':1,'k2':2}},{'key2':{'k3':3,'k4':4}}]"
   ]
  },
  {
   "cell_type": "code",
   "execution_count": 42,
   "id": "f8aa2180",
   "metadata": {},
   "outputs": [
    {
     "data": {
      "text/plain": [
       "[{'key1': {'k1': 1, 'k2': 2}}, {'key2': {'k3': 3, 'k4': 4}}]"
      ]
     },
     "execution_count": 42,
     "metadata": {},
     "output_type": "execute_result"
    }
   ],
   "source": [
    "lst"
   ]
  },
  {
   "cell_type": "code",
   "execution_count": 43,
   "id": "a99da1fe",
   "metadata": {},
   "outputs": [
    {
     "data": {
      "text/plain": [
       "{'key1': {'k1': 1, 'k2': 2}}"
      ]
     },
     "execution_count": 43,
     "metadata": {},
     "output_type": "execute_result"
    }
   ],
   "source": [
    "lst[0]"
   ]
  },
  {
   "cell_type": "code",
   "execution_count": 44,
   "id": "9b85818b",
   "metadata": {},
   "outputs": [
    {
     "data": {
      "text/plain": [
       "{'k1': 1, 'k2': 2}"
      ]
     },
     "execution_count": 44,
     "metadata": {},
     "output_type": "execute_result"
    }
   ],
   "source": [
    "lst[0]['key1']"
   ]
  },
  {
   "cell_type": "code",
   "execution_count": 46,
   "id": "8978a3b1",
   "metadata": {},
   "outputs": [
    {
     "data": {
      "text/plain": [
       "1"
      ]
     },
     "execution_count": 46,
     "metadata": {},
     "output_type": "execute_result"
    }
   ],
   "source": [
    "lst[0]['key1']['k1']"
   ]
  },
  {
   "cell_type": "code",
   "execution_count": 49,
   "id": "3729783c",
   "metadata": {},
   "outputs": [
    {
     "name": "stdout",
     "output_type": "stream",
     "text": [
      "hello world\n",
      "done\n"
     ]
    }
   ],
   "source": [
    "print(\"hello world\")\n",
    "#from IPython.display import clear_output\n",
    "#clear_output()\n",
    "print(\"done\")"
   ]
  },
  {
   "cell_type": "markdown",
   "id": "5f0235f6",
   "metadata": {},
   "source": [
    "#### Blind Auction Program"
   ]
  },
  {
   "cell_type": "code",
   "execution_count": 73,
   "id": "3547cbfc",
   "metadata": {},
   "outputs": [
    {
     "name": "stdout",
     "output_type": "stream",
     "text": [
      "the winner is  shash with a bidding amount 15\n"
     ]
    }
   ],
   "source": [
    "bids ={}\n",
    "bidding_finished = False\n",
    "\n",
    "while not bidding_finished:\n",
    "    name = input(\"What is your name ? \")\n",
    "    bid = input(\"What is your bid ? \")\n",
    "    bids[name] = bid\n",
    "    \n",
    "    should_contn = input(\"Are there any other bidder ? type 'yes' or 'no' \")\n",
    "    if should_contn == 'yes':\n",
    "        bidding_finished = False\n",
    "    elif should_contn == 'no':\n",
    "        from IPython.display import clear_output\n",
    "        clear_output()\n",
    "        bidding_finished = True\n",
    "\n",
    "def highest_bidder(bidding_record):\n",
    "    highest_bid = 0\n",
    "    bidder_name = str\n",
    "    for bidder in bidding_record:\n",
    "        bid_amount = bidding_record[bidder]\n",
    "        if int(bid_amount) > highest_bid:\n",
    "            highest_bid = int(bid_amount)\n",
    "            bidder_name = bidder\n",
    "            \n",
    "    print(\"the winner is \" + \" \" + bidder_name+ \" \" + \"with a bidding amount\"+ \" \" + str(highest_bid))\n",
    "\n",
    "highest_bidder(bids)        \n",
    "\n",
    "        "
   ]
  },
  {
   "cell_type": "code",
   "execution_count": null,
   "id": "4f8dd9af",
   "metadata": {},
   "outputs": [],
   "source": []
  }
 ],
 "metadata": {
  "kernelspec": {
   "display_name": "Python 3",
   "language": "python",
   "name": "python3"
  },
  "language_info": {
   "codemirror_mode": {
    "name": "ipython",
    "version": 3
   },
   "file_extension": ".py",
   "mimetype": "text/x-python",
   "name": "python",
   "nbconvert_exporter": "python",
   "pygments_lexer": "ipython3",
   "version": "3.8.8"
  }
 },
 "nbformat": 4,
 "nbformat_minor": 5
}
