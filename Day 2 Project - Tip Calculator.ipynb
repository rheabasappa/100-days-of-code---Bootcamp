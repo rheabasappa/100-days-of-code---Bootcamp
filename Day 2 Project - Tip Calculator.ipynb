{
 "cells": [
  {
   "cell_type": "code",
   "execution_count": 17,
   "id": "d685e2cf",
   "metadata": {},
   "outputs": [],
   "source": [
    "class legth():\n",
    "    def __init__(self,n):\n",
    "        self.n = n\n",
    "    def __len__(self):\n",
    "        \n",
    "        self.strg = str(self.n)\n",
    "        return len(self.strg)\n",
    "    \n",
    "    def __str__(self):\n",
    "        return \"length is found\"\n",
    "            \n",
    "        \n",
    "            "
   ]
  },
  {
   "cell_type": "code",
   "execution_count": 18,
   "id": "882b9416",
   "metadata": {},
   "outputs": [
    {
     "name": "stdout",
     "output_type": "stream",
     "text": [
      "length is found\n"
     ]
    }
   ],
   "source": [
    "i = legth(12345)\n",
    "print(legth(12345))"
   ]
  },
  {
   "cell_type": "code",
   "execution_count": 15,
   "id": "32ff977d",
   "metadata": {},
   "outputs": [
    {
     "data": {
      "text/plain": [
       "5"
      ]
     },
     "execution_count": 15,
     "metadata": {},
     "output_type": "execute_result"
    }
   ],
   "source": [
    "len(i)"
   ]
  },
  {
   "cell_type": "code",
   "execution_count": 8,
   "id": "b054c0bc",
   "metadata": {},
   "outputs": [],
   "source": [
    "lst = []\n",
    "for c in 'rhea':\n",
    "    lst.append(c)\n",
    "    "
   ]
  },
  {
   "cell_type": "code",
   "execution_count": 9,
   "id": "a94d0120",
   "metadata": {},
   "outputs": [
    {
     "data": {
      "text/plain": [
       "['r', 'h', 'e', 'a']"
      ]
     },
     "execution_count": 9,
     "metadata": {},
     "output_type": "execute_result"
    }
   ],
   "source": [
    "lst"
   ]
  },
  {
   "cell_type": "code",
   "execution_count": 16,
   "id": "5289cb99",
   "metadata": {},
   "outputs": [
    {
     "ename": "TypeError",
     "evalue": "object of type 'int' has no len()",
     "output_type": "error",
     "traceback": [
      "\u001b[1;31m---------------------------------------------------------------------------\u001b[0m",
      "\u001b[1;31mTypeError\u001b[0m                                 Traceback (most recent call last)",
      "\u001b[1;32m<ipython-input-16-257449b5fba0>\u001b[0m in \u001b[0;36m<module>\u001b[1;34m\u001b[0m\n\u001b[1;32m----> 1\u001b[1;33m \u001b[0mlen\u001b[0m\u001b[1;33m(\u001b[0m\u001b[1;36m12345\u001b[0m\u001b[1;33m)\u001b[0m\u001b[1;33m\u001b[0m\u001b[1;33m\u001b[0m\u001b[0m\n\u001b[0m",
      "\u001b[1;31mTypeError\u001b[0m: object of type 'int' has no len()"
     ]
    }
   ],
   "source": [
    "len(12345)"
   ]
  },
  {
   "cell_type": "code",
   "execution_count": 24,
   "id": "478bcd60",
   "metadata": {},
   "outputs": [
    {
     "name": "stdout",
     "output_type": "stream",
     "text": [
      "enter a two digit number : 26\n",
      "8\n"
     ]
    }
   ],
   "source": [
    "inp = input(\"enter a two digit number : \")\n",
    "print(int(inp[0])+int(inp[1]))"
   ]
  },
  {
   "cell_type": "code",
   "execution_count": 26,
   "id": "139c838a",
   "metadata": {},
   "outputs": [
    {
     "data": {
      "text/plain": [
       "7.0"
      ]
     },
     "execution_count": 26,
     "metadata": {},
     "output_type": "execute_result"
    }
   ],
   "source": [
    "3*3+3/3-3 #PEMDAS"
   ]
  },
  {
   "cell_type": "code",
   "execution_count": 27,
   "id": "70218da5",
   "metadata": {},
   "outputs": [],
   "source": [
    "#BMI calculator"
   ]
  },
  {
   "cell_type": "code",
   "execution_count": 30,
   "id": "d3ff5051",
   "metadata": {},
   "outputs": [
    {
     "name": "stdout",
     "output_type": "stream",
     "text": [
      "enter your weight in kg52\n",
      "enter your height in meter1.7\n",
      "your BMI is : 17.99307958477509\n"
     ]
    }
   ],
   "source": [
    "weight = float(input(\"enter your weight in kg\"))\n",
    "height = float(input(\"enter your height in meter\"))\n",
    "bmi = weight/(height**2)\n",
    "\n",
    "print(\"your BMI is : {}\".format(bmi))"
   ]
  },
  {
   "cell_type": "code",
   "execution_count": 32,
   "id": "8396a557",
   "metadata": {},
   "outputs": [],
   "source": [
    "pie = 22/7"
   ]
  },
  {
   "cell_type": "code",
   "execution_count": 33,
   "id": "45b66e9c",
   "metadata": {},
   "outputs": [
    {
     "name": "stdout",
     "output_type": "stream",
     "text": [
      "3.142857142857143\n"
     ]
    }
   ],
   "source": [
    "print(pie)"
   ]
  },
  {
   "cell_type": "code",
   "execution_count": 36,
   "id": "134e7f40",
   "metadata": {},
   "outputs": [
    {
     "data": {
      "text/plain": [
       "17"
      ]
     },
     "execution_count": 36,
     "metadata": {},
     "output_type": "execute_result"
    }
   ],
   "source": [
    "len(str(pie))"
   ]
  },
  {
   "cell_type": "code",
   "execution_count": 37,
   "id": "7e0e1fb8",
   "metadata": {},
   "outputs": [
    {
     "name": "stdout",
     "output_type": "stream",
     "text": [
      "3.0\n",
      "3.1\n",
      "3.14\n",
      "3.143\n",
      "3.1429\n",
      "3.14286\n",
      "3.142857\n",
      "3.1428571\n",
      "3.14285714\n",
      "3.142857143\n",
      "3.1428571429\n",
      "3.14285714286\n",
      "3.142857142857\n",
      "3.1428571428571\n",
      "3.14285714285714\n",
      "3.142857142857143\n"
     ]
    }
   ],
   "source": [
    "for i in range(16):\n",
    "    print(round(pie,i))"
   ]
  },
  {
   "cell_type": "code",
   "execution_count": 38,
   "id": "e0148aeb",
   "metadata": {},
   "outputs": [
    {
     "data": {
      "text/plain": [
       "3"
      ]
     },
     "execution_count": 38,
     "metadata": {},
     "output_type": "execute_result"
    }
   ],
   "source": [
    "22//7"
   ]
  },
  {
   "cell_type": "code",
   "execution_count": 39,
   "id": "b5641085",
   "metadata": {},
   "outputs": [
    {
     "data": {
      "text/plain": [
       "1"
      ]
     },
     "execution_count": 39,
     "metadata": {},
     "output_type": "execute_result"
    }
   ],
   "source": [
    "22%7"
   ]
  },
  {
   "cell_type": "code",
   "execution_count": 40,
   "id": "bc9a9437",
   "metadata": {},
   "outputs": [
    {
     "data": {
      "text/plain": [
       "0.14285714285714285"
      ]
     },
     "execution_count": 40,
     "metadata": {},
     "output_type": "execute_result"
    }
   ],
   "source": [
    "1/7"
   ]
  },
  {
   "cell_type": "code",
   "execution_count": 41,
   "id": "d9a17a07",
   "metadata": {},
   "outputs": [],
   "source": [
    "##life in weeks"
   ]
  },
  {
   "cell_type": "code",
   "execution_count": 46,
   "id": "ae0435e8",
   "metadata": {},
   "outputs": [
    {
     "name": "stdout",
     "output_type": "stream",
     "text": [
      "what is your age : 23\n",
      "your remaining time is: days remaining : 24455,months remaining : 804, weeks remaining : 3484\n"
     ]
    }
   ],
   "source": [
    "age = int(input(\"what is your age : \"))\n",
    "\n",
    "age_rem = 90 - age\n",
    "days = 365\n",
    "months = 12\n",
    "weeks = 52\n",
    "\n",
    "days_rem = age_rem*365\n",
    "month_rem = age_rem*12\n",
    "weeks_rem = age_rem*52\n",
    "\n",
    "print(\"your remaining time is: days remaining : {},months remaining : {}, weeks remaining : {}\".format(days_rem,month_rem,weeks_rem))"
   ]
  },
  {
   "cell_type": "code",
   "execution_count": 50,
   "id": "b1deab5a",
   "metadata": {},
   "outputs": [
    {
     "name": "stdout",
     "output_type": "stream",
     "text": [
      "welcome to the tip calculator \n",
      "\n",
      "what was the total bill ? \n",
      "124.56\n",
      "what percentage of tip would you like to give ? 10,12 or 15 : 10\n",
      "how many people shouldd split the bill ? 7\n",
      "each person should pay : 19.57\n"
     ]
    }
   ],
   "source": [
    "##tip calculator\n",
    "\n",
    "print(\"welcome to the tip calculator \\n\")\n",
    "bill = float(input(\"what was the total bill ? \\n\"))\n",
    "per = int(input(\"what percentage of tip would you like to give ? 10,12 or 15 : \"))\n",
    "people = int(input(\"how many people shouldd split the bill ? \"))\n",
    "\n",
    "total = ((100 + per)/100)*bill\n",
    "each = round(total/people,2)\n",
    "print(\"each person should pay : {}\".format(each))"
   ]
  },
  {
   "cell_type": "code",
   "execution_count": null,
   "id": "7c98d0e3",
   "metadata": {},
   "outputs": [],
   "source": []
  }
 ],
 "metadata": {
  "kernelspec": {
   "display_name": "Python 3",
   "language": "python",
   "name": "python3"
  },
  "language_info": {
   "codemirror_mode": {
    "name": "ipython",
    "version": 3
   },
   "file_extension": ".py",
   "mimetype": "text/x-python",
   "name": "python",
   "nbconvert_exporter": "python",
   "pygments_lexer": "ipython3",
   "version": "3.8.8"
  }
 },
 "nbformat": 4,
 "nbformat_minor": 5
}
