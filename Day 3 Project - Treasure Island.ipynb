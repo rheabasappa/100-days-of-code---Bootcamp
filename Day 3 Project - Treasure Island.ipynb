{
 "cells": [
  {
   "cell_type": "code",
   "execution_count": 1,
   "id": "f6997d78",
   "metadata": {},
   "outputs": [
    {
     "name": "stdout",
     "output_type": "stream",
     "text": [
      "enter a number3\n",
      "oh no\n"
     ]
    }
   ],
   "source": [
    "## Control flow using conditional statements \n",
    "## if-elif-else statements\n",
    "\n",
    "x = input(\"enter a number\")\n",
    "num = int(x)\n",
    "\n",
    "if num == 100:\n",
    "    print(\"wow,perfect\")\n",
    "else:\n",
    "    print(\"oh no\")"
   ]
  },
  {
   "cell_type": "code",
   "execution_count": 3,
   "id": "89a28d57",
   "metadata": {},
   "outputs": [
    {
     "name": "stdout",
     "output_type": "stream",
     "text": [
      "welcome to rollercoast ride ! \n",
      "\n",
      "enter your height : \n",
      "120\n",
      "you have to grow taller\n"
     ]
    }
   ],
   "source": [
    "## rollercoast ride\n",
    "\n",
    "print(\"welcome to rollercoast ride ! \\n\")\n",
    "height = int(input(\"enter your height : \\n\"))\n",
    "\n",
    "if height > 120 :\n",
    "    print(\"you can ride the rollercoast\")\n",
    "else:\n",
    "    print(\"you have to grow taller\")"
   ]
  },
  {
   "cell_type": "code",
   "execution_count": 4,
   "id": "d7e53bf5",
   "metadata": {},
   "outputs": [
    {
     "name": "stdout",
     "output_type": "stream",
     "text": [
      "enter a number: \n",
      "5\n",
      "5 is odd\n"
     ]
    }
   ],
   "source": [
    "## Odd or even exercise\n",
    "num = int(input(\"enter a number: \\n\"))\n",
    "\n",
    "if num %2 == 0:\n",
    "    print(f\"{num} is even \")\n",
    "else:\n",
    "    print(f\"{num} is odd\")"
   ]
  },
  {
   "cell_type": "code",
   "execution_count": 6,
   "id": "27fe40cd",
   "metadata": {},
   "outputs": [
    {
     "name": "stdout",
     "output_type": "stream",
     "text": [
      "welcome to rollercoaster! \n",
      " \n",
      "what is your height ? \n",
      "168\n",
      "what is your age ? \n",
      "23\n",
      "you can ride the rollercoaster \n",
      "\n",
      "please pay 12 dollars\n"
     ]
    }
   ],
   "source": [
    "#nested if and elif statements\n",
    "\n",
    "print(\"welcome to rollercoaster! \\n \")\n",
    "\n",
    "height = int(input(\"what is your height ? \\n\"))\n",
    "age = int(input(\"what is your age ? \\n\"))\n",
    "\n",
    "if height > 120:\n",
    "    print(\"you can ride the rollercoaster \\n\")\n",
    "    if age > 18:\n",
    "        print(\"please pay 12 dollars\")\n",
    "    else:\n",
    "        print(\"please pay 7 dollars\")\n",
    "        \n",
    "else:\n",
    "    print(\"you have to grow taller\")"
   ]
  },
  {
   "cell_type": "code",
   "execution_count": 7,
   "id": "a1113108",
   "metadata": {},
   "outputs": [
    {
     "name": "stdout",
     "output_type": "stream",
     "text": [
      "welcome to rollercoaster! \n",
      " \n",
      "what is your height ? \n",
      "168\n",
      "what is your age ? \n",
      "17\n",
      "you can ride the rollercoaster \n",
      "\n",
      "please pay 7 dollars\n"
     ]
    }
   ],
   "source": [
    "print(\"welcome to rollercoaster! \\n \")\n",
    "\n",
    "height = int(input(\"what is your height ? \\n\"))\n",
    "age = int(input(\"what is your age ? \\n\"))\n",
    "\n",
    "if height > 120:\n",
    "    print(\"you can ride the rollercoaster \\n\")\n",
    "    if age < 12:\n",
    "        print(\"please pay 5 dollars\")\n",
    "    elif age <= 18:\n",
    "        print(\"please pay 7 dollars\")\n",
    "    else:\n",
    "        print(\"please pay 12 dollars\")\n",
    "        \n",
    "else:\n",
    "    print(\"you have to grow taller\")"
   ]
  },
  {
   "cell_type": "code",
   "execution_count": 12,
   "id": "110847eb",
   "metadata": {},
   "outputs": [
    {
     "name": "stdout",
     "output_type": "stream",
     "text": [
      "what is your height : \n",
      "1.68\n",
      "what is your weight: \n",
      "78\n",
      "you are overweight\n"
     ]
    }
   ],
   "source": [
    "## BMI 2.0\n",
    "height = float(input(\"what is your height : \\n\"))\n",
    "weight = float(input(\"what is your weight: \\n\"))\n",
    "\n",
    "bmi = weight/(height ** 2)\n",
    "\n",
    "if bmi < 18.5:\n",
    "    print(\"you are underweight\")\n",
    "    \n",
    "elif bmi > 18.5 and bmi < 25:\n",
    "    print(\"you are normal weight\")\n",
    "    \n",
    "elif bmi>25 and bmi< 30:\n",
    "    print(\"you are overweight\")\n",
    "elif bmi > 30 and bmi <35:\n",
    "    print(\"you are obese\")\n",
    "else:\n",
    "    print(\"you are clinically obese\")\n",
    "    "
   ]
  },
  {
   "cell_type": "code",
   "execution_count": 14,
   "id": "58a660d6",
   "metadata": {},
   "outputs": [
    {
     "name": "stdout",
     "output_type": "stream",
     "text": [
      "which year do you want to check : 1998\n",
      "not a leap year\n"
     ]
    }
   ],
   "source": [
    "## Leap year\n",
    "year = int(input(\"which year do you want to check : \"))\n",
    "\n",
    "if year%4 == 0:\n",
    "    if year % 100 != 0:\n",
    "        if year%400 == 0:\n",
    "            print(f\"{year} is a leap year\")\n",
    "        else:\n",
    "            print(\"not a leap year\")\n",
    "    else:\n",
    "        print(\"not a leap year\")\n",
    "else:\n",
    "    print(\"not a leap year\")\n",
    "            \n"
   ]
  },
  {
   "cell_type": "code",
   "execution_count": 3,
   "id": "78e6bb4b",
   "metadata": {},
   "outputs": [
    {
     "name": "stdout",
     "output_type": "stream",
     "text": [
      "welcome to rollercoaster! \n",
      " \n",
      "what is your height ? \n",
      "128\n",
      "what is your age ? \n",
      "50\n",
      "you can ride the rollercoaster \n",
      "\n",
      "have a free ride\n",
      "do you want a picture that will cost you 3$: yes or no no\n",
      "your total bill is 0\n"
     ]
    }
   ],
   "source": [
    "print(\"welcome to rollercoaster! \\n \")\n",
    "\n",
    "height = int(input(\"what is your height ? \\n\"))\n",
    "age = int(input(\"what is your age ? \\n\"))\n",
    "total = 0\n",
    "\n",
    "if height > 120:\n",
    "    print(\"you can ride the rollercoaster \\n\")\n",
    "    if age < 12:\n",
    "        total += 5\n",
    "        print(\"your ticket is 5$\")\n",
    "        \n",
    "    elif age <= 18:\n",
    "        total += 7\n",
    "        print(\"your ticket is 7$\")\n",
    "    elif age>= 45 and age <= 55:\n",
    "        \n",
    "        print(\"have a free ride\")\n",
    "    else:\n",
    "        total += 12\n",
    "        print(\"your ticket is 12 $\")\n",
    "        \n",
    "    pic = input(\"do you want a picture that will cost you 3$: yes or no \")\n",
    "    if pic == 'yes':\n",
    "        total += 3\n",
    "        print(\"your total bill is {}\".format(total))\n",
    "    else:\n",
    "        print(\"your total bill is {}\".format(total))\n",
    "        \n",
    "else:\n",
    "    print(\"you have to grow taller\")"
   ]
  },
  {
   "cell_type": "code",
   "execution_count": 2,
   "id": "7569a81d",
   "metadata": {},
   "outputs": [
    {
     "name": "stdout",
     "output_type": "stream",
     "text": [
      "What size pizza do you want S, M or L ? L\n",
      "Do you want to add extra pepperoni Y for yes and N for no ? Y\n",
      "Do you want to add extra cheese Y for yes and N for no ? Y\n",
      "your total bill is 29\n"
     ]
    }
   ],
   "source": [
    "## Pizza order practice\n",
    "\n",
    "size = input(\"What size pizza do you want S, M or L ? \")\n",
    "add_pepperoni = input(\"Do you want to add extra pepperoni Y for yes and N for no ? \")\n",
    "add_cheese = input(\"Do you want to add extra cheese Y for yes and N for no ? \")\n",
    "\n",
    "bill = 0\n",
    "\n",
    "if size == 'S':\n",
    "    bill += 15\n",
    "    if add_pepperoni == 'Y':\n",
    "        bill += 2\n",
    "    if add_cheese == 'Y':\n",
    "        bill += 1\n",
    "elif size == 'M':\n",
    "    bill += 20\n",
    "    if add_pepperoni == 'Y':\n",
    "        bill += 3\n",
    "    if add_cheese == 'Y':\n",
    "        bill += 1\n",
    "else:\n",
    "    bill += 25\n",
    "    if add_pepperoni == 'Y':\n",
    "        bill += 3\n",
    "    if add_cheese == 'Y':\n",
    "        bill += 1\n",
    "    \n",
    "print(f\"your total bill is {bill}\")"
   ]
  },
  {
   "cell_type": "code",
   "execution_count": 10,
   "id": "44fd62be",
   "metadata": {},
   "outputs": [
    {
     "name": "stdout",
     "output_type": "stream",
     "text": [
      "what is your name ? angela yu\n",
      "what is their name ? jack baurer\n",
      "your score is 63\n",
      "try harder\n"
     ]
    }
   ],
   "source": [
    "## Love Calculator\n",
    "\n",
    "lst1 = ['t','r','u','e']\n",
    "lst2 = ['l','o','v','e']\n",
    "\n",
    "your_name = input(\"what is your name ? \")\n",
    "their_name = input(\"what is their name ? \")\n",
    "\n",
    "your = your_name.lower()\n",
    "their = their_name.lower()\n",
    "\n",
    "n =0\n",
    "m =0\n",
    "\n",
    "for char in your:\n",
    "    if char in lst1:\n",
    "        n+= 1\n",
    "        \n",
    "    if char in lst2:\n",
    "        m+= 1\n",
    "        \n",
    "for char in their:\n",
    "    if char in lst1:\n",
    "        n+= 1\n",
    "        \n",
    "    if char in lst2:\n",
    "        m+= 1\n",
    "        \n",
    "        \n",
    "n = str(n)\n",
    "m = str(m)\n",
    "digit = n+m\n",
    "score = int(digit)\n",
    "print(\"your score is {}\".format(score))\n",
    "if score< 10 or score > 90:\n",
    "    print(\"you are like coke and mentos\")\n",
    "elif score>= 40 and score<= 50:\n",
    "    print(\"you are good together\")\n",
    "else:\n",
    "    print(\"try harder\")\n",
    "    "
   ]
  },
  {
   "cell_type": "code",
   "execution_count": 14,
   "id": "a6b8916e",
   "metadata": {},
   "outputs": [
    {
     "name": "stdout",
     "output_type": "stream",
     "text": [
      "welcome to Treasure Island ! \n",
      "\n",
      "you are at a crossroad \n",
      " \n",
      "where do you want to go : type left or right \n",
      " left\n",
      "you are at a lake \n",
      "\n",
      "do you want to wait for a boat or swwim across : wait or swim \n",
      "wait\n",
      "you have arrived at the island unharmed \n",
      "\n",
      "there is a house with three doors : red,blue or yellow \n",
      "\n",
      "which color do you choose ? red, blue or yellow \n",
      "blue\n",
      "enter a room of beasts, Game over ! \n",
      "\n"
     ]
    }
   ],
   "source": [
    "##Treasure Island\n",
    "\n",
    "print(\"welcome to Treasure Island ! \\n\")\n",
    "print(\"you are at a crossroad \\n \")\n",
    "direction = input(\"where do you want to go : type left or right \\n \")\n",
    "\n",
    "if direction == 'left':\n",
    "    print(\"you are at a lake \\n\")\n",
    "    wait_no = input(\"do you want to wait for a boat or swwim across : wait or swim \\n\")\n",
    "    \n",
    "    if wait_no == 'wait':\n",
    "        print(\"you have arrived at the island unharmed \\n\")\n",
    "        print(\"there is a house with three doors : red,blue or yellow \\n\")\n",
    "        choice = input(\"which color do you choose ? red, blue or yellow \\n\")\n",
    "        if choice == 'blue':\n",
    "            print(\"enter a room of beasts, Game over ! \\n\")\n",
    "        elif choice == 'red':\n",
    "            print(\"enter a room of fire, Game over ! \\n\")\n",
    "        else:\n",
    "            print(\"you win ! \")\n",
    "    else:\n",
    "        print(\"game over ! you have drowned \\n\")\n",
    "else:\n",
    "    print(\"wrong choice, game over ! \\n\")"
   ]
  },
  {
   "cell_type": "code",
   "execution_count": null,
   "id": "ef330b33",
   "metadata": {},
   "outputs": [],
   "source": []
  }
 ],
 "metadata": {
  "kernelspec": {
   "display_name": "Python 3",
   "language": "python",
   "name": "python3"
  },
  "language_info": {
   "codemirror_mode": {
    "name": "ipython",
    "version": 3
   },
   "file_extension": ".py",
   "mimetype": "text/x-python",
   "name": "python",
   "nbconvert_exporter": "python",
   "pygments_lexer": "ipython3",
   "version": "3.8.8"
  }
 },
 "nbformat": 4,
 "nbformat_minor": 5
}
