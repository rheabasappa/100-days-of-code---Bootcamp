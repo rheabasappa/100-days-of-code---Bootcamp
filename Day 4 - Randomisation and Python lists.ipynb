{
 "cells": [
  {
   "cell_type": "code",
   "execution_count": 1,
   "id": "55efb80a",
   "metadata": {},
   "outputs": [],
   "source": [
    "#random module\n",
    "#Pseudo random coode generator using Mersenne Twister"
   ]
  },
  {
   "cell_type": "code",
   "execution_count": 2,
   "id": "f0b4b717",
   "metadata": {},
   "outputs": [],
   "source": [
    "import random"
   ]
  },
  {
   "cell_type": "code",
   "execution_count": 3,
   "id": "29f9e0e1",
   "metadata": {},
   "outputs": [
    {
     "data": {
      "text/plain": [
       "0.9223790391785223"
      ]
     },
     "execution_count": 3,
     "metadata": {},
     "output_type": "execute_result"
    }
   ],
   "source": [
    "random.random()"
   ]
  },
  {
   "cell_type": "code",
   "execution_count": 4,
   "id": "6d97f2fc",
   "metadata": {},
   "outputs": [
    {
     "data": {
      "text/plain": [
       "39"
      ]
     },
     "execution_count": 4,
     "metadata": {},
     "output_type": "execute_result"
    }
   ],
   "source": [
    "random.randrange(50)"
   ]
  },
  {
   "cell_type": "code",
   "execution_count": 8,
   "id": "16c0ad64",
   "metadata": {},
   "outputs": [
    {
     "data": {
      "text/plain": [
       "197"
      ]
     },
     "execution_count": 8,
     "metadata": {},
     "output_type": "execute_result"
    }
   ],
   "source": [
    "random_integer = random.randint(100,200)\n",
    "random_integer"
   ]
  },
  {
   "cell_type": "code",
   "execution_count": 11,
   "id": "94e46e21",
   "metadata": {},
   "outputs": [
    {
     "data": {
      "text/plain": [
       "0.21730093917312132"
      ]
     },
     "execution_count": 11,
     "metadata": {},
     "output_type": "execute_result"
    }
   ],
   "source": [
    "random_float = random.random() \n",
    "random_float"
   ]
  },
  {
   "cell_type": "code",
   "execution_count": 19,
   "id": "baa56150",
   "metadata": {},
   "outputs": [],
   "source": [
    "#Heads or tails \n",
    "\n",
    "def h_or_t():\n",
    "    num = random.randint(0,1)\n",
    "    if num == 0:\n",
    "        print(\"heads\")\n",
    "    else:\n",
    "        print(\"tails\")"
   ]
  },
  {
   "cell_type": "code",
   "execution_count": 20,
   "id": "668c57d2",
   "metadata": {},
   "outputs": [
    {
     "name": "stdout",
     "output_type": "stream",
     "text": [
      "tails\n"
     ]
    }
   ],
   "source": [
    "h_or_t()"
   ]
  },
  {
   "cell_type": "code",
   "execution_count": 21,
   "id": "1fa6212c",
   "metadata": {},
   "outputs": [],
   "source": [
    "#understanding offset and appending items to a list"
   ]
  },
  {
   "cell_type": "code",
   "execution_count": 22,
   "id": "d029a6b9",
   "metadata": {},
   "outputs": [],
   "source": [
    "fruits = ['banana','apple','orange','pineapple']"
   ]
  },
  {
   "cell_type": "code",
   "execution_count": 24,
   "id": "bdd77b0f",
   "metadata": {},
   "outputs": [
    {
     "data": {
      "text/plain": [
       "'apple'"
      ]
     },
     "execution_count": 24,
     "metadata": {},
     "output_type": "execute_result"
    }
   ],
   "source": [
    "fruits[1]"
   ]
  },
  {
   "cell_type": "code",
   "execution_count": 25,
   "id": "3386acca",
   "metadata": {},
   "outputs": [],
   "source": [
    "state1 = 'karnataka'\n",
    "state2 = 'tamil nadu'"
   ]
  },
  {
   "cell_type": "code",
   "execution_count": 1,
   "id": "905e370f",
   "metadata": {},
   "outputs": [],
   "source": [
    "state_of_india = ['kar','tn','mp','ap']"
   ]
  },
  {
   "cell_type": "code",
   "execution_count": 2,
   "id": "54be0783",
   "metadata": {},
   "outputs": [
    {
     "data": {
      "text/plain": [
       "'mp'"
      ]
     },
     "execution_count": 2,
     "metadata": {},
     "output_type": "execute_result"
    }
   ],
   "source": [
    "state_of_india[2]"
   ]
  },
  {
   "cell_type": "code",
   "execution_count": 3,
   "id": "a8f4d6aa",
   "metadata": {},
   "outputs": [],
   "source": [
    "state_of_india[2] = \"orissa\""
   ]
  },
  {
   "cell_type": "code",
   "execution_count": 4,
   "id": "38d84b93",
   "metadata": {},
   "outputs": [
    {
     "data": {
      "text/plain": [
       "['kar', 'tn', 'orissa', 'ap']"
      ]
     },
     "execution_count": 4,
     "metadata": {},
     "output_type": "execute_result"
    }
   ],
   "source": [
    "state_of_india"
   ]
  },
  {
   "cell_type": "code",
   "execution_count": 5,
   "id": "239f9ad7",
   "metadata": {},
   "outputs": [],
   "source": [
    "state_of_india.append(\"mp\")"
   ]
  },
  {
   "cell_type": "code",
   "execution_count": 10,
   "id": "75300b2c",
   "metadata": {},
   "outputs": [
    {
     "data": {
      "text/plain": [
       "['kar', 'tn', 'orissa', 'ap', 'mp', 'kerala', 'maharastra']"
      ]
     },
     "execution_count": 10,
     "metadata": {},
     "output_type": "execute_result"
    }
   ],
   "source": [
    "state_of_india"
   ]
  },
  {
   "cell_type": "code",
   "execution_count": 9,
   "id": "5b2c584b",
   "metadata": {},
   "outputs": [
    {
     "data": {
      "text/plain": [
       "7"
      ]
     },
     "execution_count": 9,
     "metadata": {},
     "output_type": "execute_result"
    }
   ],
   "source": [
    "len(state_of_india)"
   ]
  },
  {
   "cell_type": "code",
   "execution_count": 7,
   "id": "9e5f9d03",
   "metadata": {},
   "outputs": [],
   "source": [
    "state_of_india.extend(['kerala',\"maharastra\"])"
   ]
  },
  {
   "cell_type": "code",
   "execution_count": 8,
   "id": "46c37bff",
   "metadata": {},
   "outputs": [
    {
     "data": {
      "text/plain": [
       "['kar', 'tn', 'orissa', 'ap', 'mp', 'kerala', 'maharastra']"
      ]
     },
     "execution_count": 8,
     "metadata": {},
     "output_type": "execute_result"
    }
   ],
   "source": [
    "state_of_india"
   ]
  },
  {
   "cell_type": "code",
   "execution_count": 12,
   "id": "66ae243b",
   "metadata": {},
   "outputs": [
    {
     "name": "stdout",
     "output_type": "stream",
     "text": [
      "enter the names of peoople who want to pay the bill with comma seperated values : \n",
      "rhea,mamatha,dadddy,shash,ddhanu,bja\n",
      "shash has to pay the bill\n"
     ]
    }
   ],
   "source": [
    "#banking rooulette\n",
    "\n",
    "names = input(\"enter the names of peoople who want to pay the bill with comma seperated values : \\n\")\n",
    "name_list = names.split(\",\")\n",
    "\n",
    "num = len(name_list)\n",
    "\n",
    "import random\n",
    "ran_num = random.randint(0,num-1)\n",
    "person = name_list[ran_num]\n",
    "print(f\"{person} has to pay the bill\")"
   ]
  },
  {
   "cell_type": "code",
   "execution_count": 13,
   "id": "b0778e37",
   "metadata": {},
   "outputs": [],
   "source": [
    "#Index error and working with nested lists\n",
    "one = [1,2,3,4,5]\n",
    "name = ['a','b','c','d','e']\n",
    "\n",
    "lst =[one,name]"
   ]
  },
  {
   "cell_type": "code",
   "execution_count": 14,
   "id": "f8acab3a",
   "metadata": {},
   "outputs": [
    {
     "data": {
      "text/plain": [
       "[[1, 2, 3, 4, 5], ['a', 'b', 'c', 'd', 'e']]"
      ]
     },
     "execution_count": 14,
     "metadata": {},
     "output_type": "execute_result"
    }
   ],
   "source": [
    "lst"
   ]
  },
  {
   "cell_type": "code",
   "execution_count": 19,
   "id": "5d3a8202",
   "metadata": {},
   "outputs": [
    {
     "name": "stdout",
     "output_type": "stream",
     "text": [
      "[' ', ' ', ' ']\n",
      "[' ', ' ', ' ']\n",
      "[' ', ' ', ' ']\n",
      "where do you want toplace the treasure13\n",
      "[' ', ' ', ' ']\n",
      "[' ', ' ', ' ']\n",
      "['treasure', ' ', ' ']\n"
     ]
    }
   ],
   "source": [
    "#Treasure Map Exercise\n",
    "\n",
    "row1 = [ ' ',' ',' ']\n",
    "row2 = [ ' ',' ',' ']\n",
    "row3 = [ ' ',' ',' ']\n",
    "map1 = [row1,row2,row3]\n",
    "print(f\"{row1}\\n{row2}\\n{row3}\")\n",
    "\n",
    "place = input(\"where do you want toplace the treasure\")\n",
    "column = int(place[0])\n",
    "row = int(place[1])\n",
    "map1[row-1][column-1] = 'treasure'\n",
    "print(f\"{row1}\\n{row2}\\n{row3}\")"
   ]
  },
  {
   "cell_type": "code",
   "execution_count": 20,
   "id": "e155fe8e",
   "metadata": {},
   "outputs": [],
   "source": [
    "#rock, paper, scissor\n",
    "\n",
    "import random\n",
    "\n",
    "def rock_paper_scissor():\n",
    "    choice = input(\"What do you choose? Type 0 for rock, 1 for paper and 2 Scissor: \\n \")\n",
    "    choice_int = int(choice)\n",
    "    if choice_int == 0:\n",
    "        print(\"you choose head \\n \")\n",
    "    elif choice_int == 1:\n",
    "        print(\"you choose paper \\n\")\n",
    "    else:\n",
    "        print(\"yoou choose scissor \\n\")\n",
    "    ran_num = random.randint(0,2)\n",
    "    if choice_int == 0:\n",
    "        if ran_num == 0:\n",
    "            print(\"computer choose rock \\n\")\n",
    "            print(\"its a draw \\n\")\n",
    "        elif ran_num == 1:\n",
    "            print(\"computer choose paper\")\n",
    "            print(\"computer win\")\n",
    "        else:\n",
    "            print(\"computer choose scissors\")\n",
    "            print(\"you win\")\n",
    "    elif choice_int == 1:\n",
    "        \n",
    "        if ran_num == 0:\n",
    "            print(\"computer choose rock \\n\")\n",
    "            print(\"you win \\n\")\n",
    "        elif ran_num == 1:\n",
    "            print(\"computer choose paper\")\n",
    "            print(\"its a draw \\n\")\n",
    "        else:\n",
    "            print(\"computer choose scissors\")\n",
    "            print(\"Computer win \\n\")\n",
    "    else:\n",
    "        \n",
    "        if ran_num == 0:\n",
    "            print(\"computer choose rock \\n\")\n",
    "            print(\"computer win \\n\")\n",
    "        elif ran_num == 1:\n",
    "            print(\"computer choose paper\")\n",
    "            print(\"you win \\n\")\n",
    "        else:\n",
    "            print(\"computer choose scissors\")\n",
    "            print(\"its a draw \\n\")\n",
    "    "
   ]
  },
  {
   "cell_type": "code",
   "execution_count": 21,
   "id": "ee152009",
   "metadata": {},
   "outputs": [
    {
     "name": "stdout",
     "output_type": "stream",
     "text": [
      "What do you choose? Type 0 for rock, 1 for paper and 2 Scissor: \n",
      " 1\n",
      "you choose paper \n",
      "\n",
      "computer choose rock \n",
      "\n",
      "you win \n",
      "\n"
     ]
    }
   ],
   "source": [
    "rock_paper_scissor()"
   ]
  },
  {
   "cell_type": "code",
   "execution_count": null,
   "id": "2e6f634d",
   "metadata": {},
   "outputs": [],
   "source": []
  }
 ],
 "metadata": {
  "kernelspec": {
   "display_name": "Python 3",
   "language": "python",
   "name": "python3"
  },
  "language_info": {
   "codemirror_mode": {
    "name": "ipython",
    "version": 3
   },
   "file_extension": ".py",
   "mimetype": "text/x-python",
   "name": "python",
   "nbconvert_exporter": "python",
   "pygments_lexer": "ipython3",
   "version": "3.8.8"
  }
 },
 "nbformat": 4,
 "nbformat_minor": 5
}
