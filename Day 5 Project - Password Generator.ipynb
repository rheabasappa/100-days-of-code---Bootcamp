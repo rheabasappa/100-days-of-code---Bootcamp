{
 "cells": [
  {
   "cell_type": "code",
   "execution_count": 3,
   "id": "c612c2e5",
   "metadata": {},
   "outputs": [
    {
     "name": "stdout",
     "output_type": "stream",
     "text": [
      "apple\n",
      "apple pie\n",
      "banana\n",
      "banana pie\n",
      "peaches\n",
      "peaches pie\n"
     ]
    }
   ],
   "source": [
    "#lists\n",
    "fruits = ['apple','banana','peaches']\n",
    "for fruit in fruits:\n",
    "    print(fruit)\n",
    "    print(fruit + \" pie\")"
   ]
  },
  {
   "cell_type": "code",
   "execution_count": 7,
   "id": "ecd2c776",
   "metadata": {},
   "outputs": [
    {
     "name": "stdout",
     "output_type": "stream",
     "text": [
      "164\n"
     ]
    }
   ],
   "source": [
    "#Average height\n",
    "heights = [180,124,165,173,189,169,146]\n",
    "total = 0\n",
    "\n",
    "for height in heights:\n",
    "    total += height\n",
    "    \n",
    "average = total/len(heights)\n",
    "print(round(average))\n",
    "    "
   ]
  },
  {
   "cell_type": "code",
   "execution_count": 8,
   "id": "3748cec6",
   "metadata": {},
   "outputs": [
    {
     "name": "stdout",
     "output_type": "stream",
     "text": [
      "91\n"
     ]
    }
   ],
   "source": [
    "#highest score in a list\n",
    "student_scores = [78,65,89,86,55,91,64,89]\n",
    "highest = 0\n",
    "for score in student_scores:\n",
    "    if score > highest:\n",
    "        highest = score\n",
    "print(highest)"
   ]
  },
  {
   "cell_type": "code",
   "execution_count": 10,
   "id": "284d7eb0",
   "metadata": {},
   "outputs": [
    {
     "name": "stdout",
     "output_type": "stream",
     "text": [
      "5050\n"
     ]
    }
   ],
   "source": [
    "#for loops and range function\n",
    "total = 0\n",
    "for i in range(101):\n",
    "    total += i\n",
    "print(total)\n",
    "    "
   ]
  },
  {
   "cell_type": "code",
   "execution_count": 12,
   "id": "af07fec2",
   "metadata": {},
   "outputs": [
    {
     "name": "stdout",
     "output_type": "stream",
     "text": [
      "2550\n",
      "2550\n"
     ]
    }
   ],
   "source": [
    "#adding evens\n",
    "\n",
    "total = 0\n",
    "for i in range(1,101):\n",
    "    if i%2 == 0:\n",
    "        total += i\n",
    "print(total)\n",
    "\n",
    "\n",
    "##or\n",
    "total = 0\n",
    "for i in range(2,101,2):\n",
    "    total += i\n",
    "print(total)"
   ]
  },
  {
   "cell_type": "code",
   "execution_count": 13,
   "id": "7bca3a03",
   "metadata": {},
   "outputs": [
    {
     "name": "stdout",
     "output_type": "stream",
     "text": [
      "1\n",
      "2\n",
      "fizz\n",
      "4\n",
      "buzz\n",
      "fizz\n",
      "7\n",
      "8\n",
      "fizz\n",
      "buzz\n",
      "11\n",
      "fizz\n",
      "13\n",
      "14\n",
      "fizzbuzz\n",
      "16\n",
      "17\n",
      "fizz\n",
      "19\n",
      "buzz\n",
      "fizz\n",
      "22\n",
      "23\n",
      "fizz\n",
      "buzz\n",
      "26\n",
      "fizz\n",
      "28\n",
      "29\n",
      "fizzbuzz\n",
      "31\n",
      "32\n",
      "fizz\n",
      "34\n",
      "buzz\n",
      "fizz\n",
      "37\n",
      "38\n",
      "fizz\n",
      "buzz\n",
      "41\n",
      "fizz\n",
      "43\n",
      "44\n",
      "fizzbuzz\n",
      "46\n",
      "47\n",
      "fizz\n",
      "49\n",
      "buzz\n",
      "fizz\n",
      "52\n",
      "53\n",
      "fizz\n",
      "buzz\n",
      "56\n",
      "fizz\n",
      "58\n",
      "59\n",
      "fizzbuzz\n",
      "61\n",
      "62\n",
      "fizz\n",
      "64\n",
      "buzz\n",
      "fizz\n",
      "67\n",
      "68\n",
      "fizz\n",
      "buzz\n",
      "71\n",
      "fizz\n",
      "73\n",
      "74\n",
      "fizzbuzz\n",
      "76\n",
      "77\n",
      "fizz\n",
      "79\n",
      "buzz\n",
      "fizz\n",
      "82\n",
      "83\n",
      "fizz\n",
      "buzz\n",
      "86\n",
      "fizz\n",
      "88\n",
      "89\n",
      "fizzbuzz\n",
      "91\n",
      "92\n",
      "fizz\n",
      "94\n",
      "buzz\n",
      "fizz\n",
      "97\n",
      "98\n",
      "fizz\n",
      "buzz\n"
     ]
    }
   ],
   "source": [
    "##The fizzbuzz job interview question\n",
    "\n",
    "for i in range(1,101):\n",
    "    if i%3 == 0 and i%5 == 0:\n",
    "        print(\"fizzbuzz\")\n",
    "    elif i%3 == 0:\n",
    "        print(\"fizz\")\n",
    "    elif i%5 == 0:\n",
    "        print(\"buzz\")\n",
    "    else:\n",
    "        print(i)"
   ]
  },
  {
   "cell_type": "code",
   "execution_count": 23,
   "id": "9a457128",
   "metadata": {},
   "outputs": [
    {
     "name": "stdout",
     "output_type": "stream",
     "text": [
      "welcome to password generator \n",
      " \n",
      "how many letters would you like in your password:  \n",
      " 8\n",
      "how many symbols would you like in your password: \n",
      "2\n",
      "How many numbers would you like in your password : \n",
      " 4\n",
      "your password is : 89sws^$o6rdz8o\n"
     ]
    }
   ],
   "source": [
    "##Create a password generator\n",
    "\n",
    "print(\"welcome to password generator \\n \")\n",
    "n = int(input(\"how many letters would you like in your password:  \\n \"))\n",
    "sym = int(input(\"how many symbols would you like in your password: \\n\"))\n",
    "num = int(input(\"How many numbers would you like in your password : \\n \"))\n",
    "\n",
    "letters = ['a','b','c','d','e','f','g','h','i','j','k','l','m','n','o','p','q','r','s','t','u','v','w','x','y','z']\n",
    "numbers =[1,2,3,4,5,6,7,8,9,0]\n",
    "symbols = ['!','@','#','$','%','^','&','*','+']\n",
    "\n",
    "empty_list = []\n",
    "import random\n",
    "\n",
    "for i in range(n):\n",
    "    empty_list.append(letters[random.randint(1,25)])\n",
    "    \n",
    "for i in range(sym):\n",
    "    empty_list.append(symbols[random.randint(1,9)])\n",
    "    \n",
    "for i in range(num):\n",
    "    empty_list.append(str(numbers[random.randint(1,9)]))\n",
    "\n",
    "random.shuffle(empty_list)\n",
    "password = ''.join(empty_list)\n",
    "\n",
    "print(\"your password is : {}\".format(password))\n",
    "    \n",
    "        "
   ]
  },
  {
   "cell_type": "code",
   "execution_count": null,
   "id": "1fac92c1",
   "metadata": {},
   "outputs": [],
   "source": []
  }
 ],
 "metadata": {
  "kernelspec": {
   "display_name": "Python 3",
   "language": "python",
   "name": "python3"
  },
  "language_info": {
   "codemirror_mode": {
    "name": "ipython",
    "version": 3
   },
   "file_extension": ".py",
   "mimetype": "text/x-python",
   "name": "python",
   "nbconvert_exporter": "python",
   "pygments_lexer": "ipython3",
   "version": "3.8.8"
  }
 },
 "nbformat": 4,
 "nbformat_minor": 5
}
