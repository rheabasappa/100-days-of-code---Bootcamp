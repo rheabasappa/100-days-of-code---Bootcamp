{
 "cells": [
  {
   "cell_type": "code",
   "execution_count": 2,
   "id": "03036b6f",
   "metadata": {},
   "outputs": [
    {
     "name": "stdout",
     "output_type": "stream",
     "text": [
      "Welcome to band name Generator\n",
      "\n",
      "\n",
      "Which city did you grew up in ? Bengaluru\n",
      "What was the name of your pet ? Bee\n",
      "\n",
      "\n",
      "The name of your band is : Bengaluru Bee\n"
     ]
    }
   ],
   "source": [
    "print(\"Welcome to band name Generator\")\n",
    "print(\"\\n\")\n",
    "name = input(\"Which city did you grew up in ? \")\n",
    "animal = input(\"What was the name of your pet ? \")\n",
    "print(\"\\n\")\n",
    "\n",
    "print(\"The name of your band is : {} {}\".format(name,animal))"
   ]
  },
  {
   "cell_type": "code",
   "execution_count": null,
   "id": "146ad618",
   "metadata": {},
   "outputs": [],
   "source": []
  }
 ],
 "metadata": {
  "kernelspec": {
   "display_name": "Python 3",
   "language": "python",
   "name": "python3"
  },
  "language_info": {
   "codemirror_mode": {
    "name": "ipython",
    "version": 3
   },
   "file_extension": ".py",
   "mimetype": "text/x-python",
   "name": "python",
   "nbconvert_exporter": "python",
   "pygments_lexer": "ipython3",
   "version": "3.8.8"
  }
 },
 "nbformat": 4,
 "nbformat_minor": 5
}
